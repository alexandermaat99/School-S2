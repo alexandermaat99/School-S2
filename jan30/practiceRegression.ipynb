{
 "cells": [
  {
   "cell_type": "code",
   "execution_count": 1,
   "metadata": {},
   "outputs": [
    {
     "name": "stdout",
     "output_type": "stream",
     "text": [
      "                            OLS Regression Results                            \n",
      "==============================================================================\n",
      "Dep. Variable:                charges   R-squared:                       0.120\n",
      "Model:                            OLS   Adj. R-squared:                  0.118\n",
      "Method:                 Least Squares   F-statistic:                     60.69\n",
      "Date:                Sat, 03 Feb 2024   Prob (F-statistic):           8.80e-37\n",
      "Time:                        20:32:13   Log-Likelihood:                -14392.\n",
      "No. Observations:                1338   AIC:                         2.879e+04\n",
      "Df Residuals:                    1334   BIC:                         2.881e+04\n",
      "Df Model:                           3                                         \n",
      "Covariance Type:            nonrobust                                         \n",
      "==============================================================================\n",
      "                 coef    std err          t      P>|t|      [0.025      0.975]\n",
      "------------------------------------------------------------------------------\n",
      "const      -6916.2433   1757.480     -3.935      0.000   -1.04e+04   -3468.518\n",
      "age          239.9945     22.289     10.767      0.000     196.269     283.720\n",
      "bmi          332.0834     51.310      6.472      0.000     231.425     432.741\n",
      "children     542.8647    258.241      2.102      0.036      36.261    1049.468\n",
      "==============================================================================\n",
      "Omnibus:                      325.395   Durbin-Watson:                   2.012\n",
      "Prob(Omnibus):                  0.000   Jarque-Bera (JB):              603.372\n",
      "Skew:                           1.520   Prob(JB):                    9.54e-132\n",
      "Kurtosis:                       4.255   Cond. No.                         290.\n",
      "==============================================================================\n",
      "\n",
      "Notes:\n",
      "[1] Standard Errors assume that the covariance matrix of the errors is correctly specified.\n"
     ]
    }
   ],
   "source": [
    "import pandas as pd \n",
    "import statsmodels.api as sm\n",
    "\n",
    "df= pd.read_csv('/Users/alexandermaat/Downloads/insurance.csv')\n",
    "df = pd.get_dummies(df, columns=df.select_dtypes(['object']).columns,drop_first=True)\n",
    "# print(df.head())\n",
    "\n",
    "df = df * 1\n",
    "\n",
    "# Create the target variable (charges) and the feature variables (age, bmi, children)\n",
    "X = df[['age', 'bmi', 'children']]\n",
    "y = df['charges']\n",
    "\n",
    "# Add a constant to the feature variables to fit an intercept in the regression model\n",
    "X = sm.add_constant(X)\n",
    "\n",
    "# Create and fit the OLS (Ordinary Least Squares) model\n",
    "model = sm.OLS(y, X).fit()\n",
    "\n",
    "# Get the summary of the regression model\n",
    "print(model.summary())\n"
   ]
  },
  {
   "cell_type": "code",
   "execution_count": 2,
   "metadata": {},
   "outputs": [
    {
     "name": "stdout",
     "output_type": "stream",
     "text": [
      "Predicted insurance charges for a customer who is zero years old, has a BMI of zero, and has zero children: -6916.243347787044\n"
     ]
    }
   ],
   "source": [
    "new_data = pd.DataFrame({'const': [1], 'age': [0], 'bmi': [0], 'children': [0]})\n",
    "\n",
    "# Use the trained model to make predictions\n",
    "predicted_charges = model.predict(new_data)\n",
    "\n",
    "# Print the predicted charges\n",
    "print(\"Predicted insurance charges for a customer who is zero years old, has a BMI of zero, and has zero children:\", predicted_charges[0])\n"
   ]
  },
  {
   "cell_type": "code",
   "execution_count": 72,
   "metadata": {},
   "outputs": [
    {
     "name": "stdout",
     "output_type": "stream",
     "text": [
      "                            OLS Regression Results                            \n",
      "==============================================================================\n",
      "Dep. Variable:                charges   R-squared:                       0.750\n",
      "Model:                            OLS   Adj. R-squared:                  0.749\n",
      "Method:                 Least Squares   F-statistic:                     798.0\n",
      "Date:                Sat, 03 Feb 2024   Prob (F-statistic):               0.00\n",
      "Time:                        20:48:32   Log-Likelihood:                -13551.\n",
      "No. Observations:                1338   AIC:                         2.711e+04\n",
      "Df Residuals:                    1332   BIC:                         2.715e+04\n",
      "Df Model:                           5                                         \n",
      "Covariance Type:            nonrobust                                         \n",
      "==============================================================================\n",
      "                 coef    std err          t      P>|t|      [0.025      0.975]\n",
      "------------------------------------------------------------------------------\n",
      "const      -1.205e+04    951.260    -12.670      0.000   -1.39e+04   -1.02e+04\n",
      "age          257.7350     11.904     21.651      0.000     234.383     281.087\n",
      "bmi          322.3642     27.419     11.757      0.000     268.576     376.153\n",
      "children     474.4111    137.856      3.441      0.001     203.973     744.849\n",
      "smoker_yes  2.382e+04    412.523     57.750      0.000     2.3e+04    2.46e+04\n",
      "sex_male    -128.6399    333.361     -0.386      0.700    -782.609     525.329\n",
      "==============================================================================\n",
      "Omnibus:                      301.103   Durbin-Watson:                   2.087\n",
      "Prob(Omnibus):                  0.000   Jarque-Bera (JB):              720.380\n",
      "Skew:                           1.214   Prob(JB):                    3.73e-157\n",
      "Kurtosis:                       5.650   Cond. No.                         295.\n",
      "==============================================================================\n",
      "\n",
      "Notes:\n",
      "[1] Standard Errors assume that the covariance matrix of the errors is correctly specified.\n"
     ]
    }
   ],
   "source": [
    "# Importing necessary libraries and loading the dataset (if not already done)\n",
    "import pandas as pd\n",
    "import statsmodels.api as sm\n",
    "\n",
    "df = pd.read_csv('/Users/alexandermaat/Downloads/insurance.csv')\n",
    "\n",
    "# Create dummy codes for the 'smoker' and 'sex' columns\n",
    "df = pd.get_dummies(df, columns=['smoker', 'sex'], drop_first=True)\n",
    "\n",
    "df = df * 1\n",
    "\n",
    "# Create the target variable (charges) and the feature variables\n",
    "X = df[['age', 'bmi', 'children', 'smoker_yes', 'sex_male']]\n",
    "y = df['charges']\n",
    "\n",
    "# Add a constant to the feature variables to fit an intercept in the regression model\n",
    "X = sm.add_constant(X)\n",
    "\n",
    "# Create and fit the OLS (Ordinary Least Squares) model\n",
    "model = sm.OLS(y, X).fit()\n",
    "\n",
    "# Get the summary of the regression model\n",
    "print(model.summary())\n"
   ]
  },
  {
   "cell_type": "code",
   "execution_count": null,
   "metadata": {},
   "outputs": [],
   "source": []
  }
 ],
 "metadata": {
  "kernelspec": {
   "display_name": "Python 3",
   "language": "python",
   "name": "python3"
  },
  "language_info": {
   "codemirror_mode": {
    "name": "ipython",
    "version": 3
   },
   "file_extension": ".py",
   "mimetype": "text/x-python",
   "name": "python",
   "nbconvert_exporter": "python",
   "pygments_lexer": "ipython3",
   "version": "3.11.7"
  }
 },
 "nbformat": 4,
 "nbformat_minor": 2
}
