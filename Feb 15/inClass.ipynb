{
 "cells": [
  {
   "cell_type": "code",
   "execution_count": null,
   "metadata": {},
   "outputs": [],
   "source": [
    "# phase 1 business understadning\n",
    "# phase 2 data understanding\n",
    "#   2.1 Univariate stats/visuals\n",
    "#   2.2 Bivariate stats/visuals\n",
    "# phase 3 data preparation\n",
    "#   3.1 Basic Wrangling (get rid of unique identifiers, etc)\n",
    "#   3.2 Missing Data\n",
    "#   3.3 Bin low count catagorical values \n",
    "#   3.4 address outliers \n",
    "#   3.5 address slewness (if there are linear assumptopions)\n",
    "# phase 4 model building\n",
    "#   4.1 set y and X datasets first \n",
    "#   4.2 dummy code\n",
    "#   4.3 normalize/ scale the X dataset \n",
    "#   4.4 split the data into train and test\n",
    "#   4.5 train the model\n",
    "# phase 5 evaluation \n",
    "#   5.1 generate fit metrics (regression: r2, r2 adjusted, mse, mae, etc) (classification: accuracy, precision, recall, f1, etc)\n",
    "#   5.2 Classification: Confusion Matrix\n",
    "#   5.3 Generate tree image \n",
    "#   5.4 Feature Importance \n",
    "\n"
   ]
  }
 ],
 "metadata": {
  "language_info": {
   "name": "python"
  }
 },
 "nbformat": 4,
 "nbformat_minor": 2
}
