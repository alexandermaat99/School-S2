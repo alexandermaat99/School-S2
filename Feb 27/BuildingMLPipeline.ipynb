{
 "cells": [
  {
   "cell_type": "code",
   "execution_count": 15,
   "metadata": {},
   "outputs": [],
   "source": [
    "def import_data(path):\n",
    "    import pandas as pd\n",
    "    import numpy as np\n",
    "    df = pd.read_csv(path)\n",
    "    df['missing'] = np.nan\n",
    "    df.iloc[2:5, 4] = np.nan\n",
    "    df.iloc[2:4, 2:6] = np.nan\n",
    "    return df"
   ]
  },
  {
   "cell_type": "code",
   "execution_count": 16,
   "metadata": {},
   "outputs": [],
   "source": [
    "def setup_model(df, label):\n",
    "    import pandas as pd\n",
    "    y = df[label]\n",
    "    X = df.drop(columns=[label])\n",
    "    return [X, y]"
   ]
  },
  {
   "cell_type": "code",
   "execution_count": 17,
   "metadata": {},
   "outputs": [],
   "source": [
    "# dummy code\n",
    "\n",
    "def dummy_code(df):\n",
    "    import pandas as pd\n",
    "    df = pd.get_dummies(df, drop_first=True)\n",
    "    return df"
   ]
  },
  {
   "cell_type": "code",
   "execution_count": 18,
   "metadata": {},
   "outputs": [],
   "source": [
    "def missing_data(df, label, row_thresh=.90, col_thresh=.70):\n",
    "    import pandas as pd\n",
    "    import numpy as np\n",
    "\n",
    "    # drop rows with label missing \n",
    "    df.dropna(subset=[label], inplace=True)\n",
    "\n",
    "    # Drop rows with 100 missing data\n",
    "    df.dropna(axis='columns', thresh=1, inplace=True)\n",
    "    df.dropna(axis='rows', thresh=1, inplace=True)\n",
    "\n",
    "    # drop rows with < threshold missing data\n",
    "    df.dropna(axis = 'rows', thresh = round(df.shape[1]*row_thresh), inplace = True)\n",
    "\n",
    "    # drop columns with < threshold missing data\n",
    "    df.dropna(axis = 'columns', thresh = round(df.shape[0]*col_thresh), inplace = True)\n",
    "\n",
    "    # impute missing values\n",
    "    if df.isna().sum().sum() > 0:\n",
    "        from sklearn.experimental import enable_iterative_imputer\n",
    "        from sklearn.impute import IterativeImpute, KNNImputer\n",
    "\n",
    "        y, X = setup_model(df, label)\n",
    "        X = dummy_code(X)\n",
    "        imp = IterativeImpute(max_iter=10, random_state=1)\n",
    "        X = pd.DataFrame(imp.fit_transform(df), columns = df.columns)\n",
    "        # can remove column names later if wanter\n",
    "        # max iter is set to 10 to speed up the process, can be increased for better results, but will take longer\n",
    "        df = X.merg(y, left_index=True, right_index=True)\n",
    "\n",
    "    return df"
   ]
  },
  {
   "cell_type": "code",
   "execution_count": null,
   "metadata": {},
   "outputs": [],
   "source": []
  },
  {
   "cell_type": "code",
   "execution_count": 19,
   "metadata": {},
   "outputs": [],
   "source": [
    "# create missing data"
   ]
  },
  {
   "cell_type": "code",
   "execution_count": 20,
   "metadata": {},
   "outputs": [
    {
     "ename": "TypeError",
     "evalue": "setup_model() missing 1 required positional argument: 'label'",
     "output_type": "error",
     "traceback": [
      "\u001b[1;31m---------------------------------------------------------------------------\u001b[0m",
      "\u001b[1;31mTypeError\u001b[0m                                 Traceback (most recent call last)",
      "Cell \u001b[1;32mIn[20], line 9\u001b[0m\n\u001b[0;32m      6\u001b[0m df \u001b[38;5;241m=\u001b[39m import_data(\u001b[38;5;124m'\u001b[39m\u001b[38;5;124mnetwork_traffic.csv\u001b[39m\u001b[38;5;124m'\u001b[39m)\n\u001b[0;32m      8\u001b[0m \u001b[38;5;66;03m# data prep\u001b[39;00m\n\u001b[1;32m----> 9\u001b[0m y, X \u001b[38;5;241m=\u001b[39m \u001b[43msetup_model\u001b[49m\u001b[43m(\u001b[49m\u001b[43mdf\u001b[49m\u001b[43m)\u001b[49m\n\u001b[0;32m     10\u001b[0m X \u001b[38;5;241m=\u001b[39m dummy_code(X)\n\u001b[0;32m     11\u001b[0m df \u001b[38;5;241m=\u001b[39m missing_data(df, \u001b[38;5;124m'\u001b[39m\u001b[38;5;124mattack\u001b[39m\u001b[38;5;124m'\u001b[39m, row_thresh\u001b[38;5;241m=\u001b[39m\u001b[38;5;241m.95\u001b[39m, col_thresh\u001b[38;5;241m=\u001b[39m\u001b[38;5;241m.70\u001b[39m)\n",
      "\u001b[1;31mTypeError\u001b[0m: setup_model() missing 1 required positional argument: 'label'"
     ]
    }
   ],
   "source": [
    "# pipeline\n",
    "import pandas as pd\n",
    "pd.set_option('display.max_columns', None)\n",
    "\n",
    "# import the data\n",
    "df = import_data('network_traffic.csv')\n",
    "\n",
    "# data prep\n",
    "y, X = setup_model(df)\n",
    "X = dummy_code(X)\n",
    "df = missing_data(df, 'attack', row_thresh=.95, col_thresh=.70)\n",
    "\n",
    "# review the missing data\n",
    "df.isna().sum()"
   ]
  },
  {
   "cell_type": "code",
   "execution_count": null,
   "metadata": {},
   "outputs": [],
   "source": [
    "# Impute or predict values"
   ]
  },
  {
   "cell_type": "code",
   "execution_count": null,
   "metadata": {},
   "outputs": [],
   "source": []
  }
 ],
 "metadata": {
  "kernelspec": {
   "display_name": "Python 3",
   "language": "python",
   "name": "python3"
  },
  "language_info": {
   "codemirror_mode": {
    "name": "ipython",
    "version": 3
   },
   "file_extension": ".py",
   "mimetype": "text/x-python",
   "name": "python",
   "nbconvert_exporter": "python",
   "pygments_lexer": "ipython3",
   "version": "3.9.1"
  }
 },
 "nbformat": 4,
 "nbformat_minor": 2
}
